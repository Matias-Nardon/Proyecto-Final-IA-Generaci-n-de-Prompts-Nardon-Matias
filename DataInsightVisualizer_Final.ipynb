# Data Insight Visualizer - Proyecto Final Coderhouse

# --- Importación de librerías ---
import pandas as pd
import matplotlib.pyplot as plt

# --- Carga de datos de ejemplo ---
data = {
    "Mes": ["Enero", "Febrero", "Marzo", "Abril", "Mayo", "Junio"],
    "Ventas": [12000, 15000, 18000, 22000, 21000, 25000],
    "Productos": [320, 410, 450, 500, 480, 550]
}

df = pd.DataFrame(data)

# --- Visualización de datos ---
plt.figure(figsize=(8,5))
plt.plot(df["Mes"], df["Ventas"], marker="o")
plt.title("Evolución de Ventas 2025")
plt.xlabel("Mes")
plt.ylabel("Monto de Ventas ($)")
plt.grid(True)
plt.show()

# --- Resumen ejecutivo generado con prompt (simulación de IA) ---
resumen = (
    "Durante el primer semestre del año se observa un crecimiento sostenido en las ventas, "
    "pasando de $12.000 en enero a $25.000 en junio. El mayor salto se da entre marzo y abril, "
    "lo que refleja un aumento en la demanda y abre oportunidades para consolidar la estrategia comercial."
)

print("Resumen Ejecutivo:")
print(resumen)

# --- Prompt ejemplo para IA Texto -> Texto ---
prompt_texto = "Resume en un párrafo ejecutivo los hallazgos principales del análisis de ventas, destacando tendencias y oportunidades de negocio."

# --- Prompt ejemplo para IA Texto -> Imagen ---
prompt_imagen = "Diseña una infografía minimalista y clara que muestre el crecimiento de las ventas a lo largo del año, con colores corporativos y estilo profesional."

print("\nPrompt Texto -> Texto:")
print(prompt_texto)

print("\nPrompt Texto -> Imagen:")
print(prompt_imagen)

# Nota: la imagen se debe generar con DALL·E o Nightcafe fuera de este notebook
# y luego adjuntarse al informe/proyecto final.
