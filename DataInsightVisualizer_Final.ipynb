{
 "cells": [
  {
   "cell_type": "markdown",
   "metadata": {},
   "source": [
    "# Data Insight Visualizer - Proyecto Final Coderhouse\n",
    "\n",
    "Este notebook contiene la implementación del proyecto, incluyendo la visualización de datos, un resumen ejecutivo simulado, y ejemplos de prompts para IA de texto y texto->imagen."
   ]
  },
  {
   "cell_type": "code",
   "execution_count": 1,
   "metadata": {},
   "outputs": [],
   "source": [
    "# --- Importación de librerías ---\n",
    "import pandas as pd\n",
    "import matplotlib.pyplot as plt"
   ]
  },
  {
   "cell_type": "code",
   "execution_count": 2,
   "metadata": {},
   "outputs": [],
   "source": [
    "# --- Carga de datos de ejemplo ---\n",
    "data = {\n",
    "    \"Mes\": [\"Enero\", \"Febrero\", \"Marzo\", \"Abril\", \"Mayo\", \"Junio\"],\n",
    "    \"Ventas\": [12000, 15000, 18000, 22000, 21000, 25000],\n",
    "    \"Productos\": [320, 410, 450, 500, 480, 550]\n",
    "}\n",
    "\n",
    "df = pd.DataFrame(data)\n",
    "df"
   ]
  },
  {
   "cell_type": "code",
   "execution_count": 3,
   "metadata": {},
   "outputs": [],
   "source": [
    "# --- Visualización de datos ---\n",
    "plt.figure(figsize=(8,5))\n",
    "plt.plot(df[\"Mes\"], df[\"Ventas\"], marker=\"o\", color=\"steelblue\")\n",
    "plt.title(\"Evolución de Ventas 2025\")\n",
    "plt.xlabel(\"Mes\")\n",
    "plt.ylabel(\"Monto de Ventas ($)\")\n",
    "plt.grid(True)\n",
    "plt.show()"
   ]
  },
  {
   "cell_type": "markdown",
   "metadata": {},
   "source": [
    "### Resumen Ejecutivo (simulación de IA)\n",
    "Este resumen representa un ejemplo de cómo podría generarse un análisis ejecutivo usando un modelo de lenguaje."
   ]
  },
  {
   "cell_type": "code",
   "execution_count": 4,
   "metadata": {},
   "outputs": [],
   "source": [
    "resumen = (\n",
    "    \"Durante el primer semestre del año se observa un crecimiento sostenido en las ventas, \"\n",
    "    \"pasando de $12.000 en enero a $25.000 en junio. El mayor salto se da entre marzo y abril, \"\n",
    "    \"lo que refleja un aumento en la demanda y abre oportunidades para consolidar la estrategia comercial.\"\n",
    ")\n",
    "\n",
    "print(\"Resumen Ejecutivo:\")\n",
    "print(resumen)"
   ]
  },
  {
   "cell_type": "markdown",
   "metadata": {},
   "source": [
    "### Prompt ejemplo para IA Texto -> Texto"
   ]
  },
  {
   "cell_type": "code",
   "execution_count": 5,
   "metadata": {},
   "outputs": [],
   "source": [
    "prompt_texto = (\n",
    "    \"Resume en un párrafo ejecutivo los hallazgos principales del análisis de ventas, \"\n",
    "    \"destacando tendencias y oportunidades de negocio.\"\n",
    ")\n",
    "\n",
    "print(\"Prompt Texto -> Texto:\")\n",
    "print(prompt_texto)"
   ]
  },
  {
   "cell_type": "markdown",
   "metadata": {},
   "source": [
    "### Prompt ejemplo para IA Texto -> Imagen"
   ]
  },
  {
   "cell_type": "code",
   "execution_count": 6,
   "metadata": {},
   "outputs": [],
   "source": [
    "prompt_imagen = (\n",
    "    \"Diseña una infografía minimalista y clara que muestre el crecimiento de las ventas a lo largo del año, \"\n",
    "    \"con colores corporativos y estilo profesional.\"\n",
    ")\n",
    "\n",
    "print(\"Prompt Texto -> Imagen:\")\n",
    "print(prompt_imagen)"
   ]
  },
  {
   "cell_type": "markdown",
   "metadata": {},
   "source": [
 
   ]
  }
 ],
 "metadata": {
  "kernelspec": {
   "display_name": "Python 3",
   "language": "python",
   "name": "python3"
  },
  "language_info": {
   "name": "python",
   "version": "3.11"
  }
 },
 "nbformat": 4,
 "nbformat_minor": 5
}
